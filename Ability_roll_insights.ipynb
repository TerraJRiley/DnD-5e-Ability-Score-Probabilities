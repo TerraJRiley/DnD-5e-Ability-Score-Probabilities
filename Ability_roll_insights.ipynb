{
 "cells": [
  {
   "cell_type": "code",
   "execution_count": 1,
   "metadata": {},
   "outputs": [],
   "source": [
    "import pandas as pd\n",
    "import random\n",
    "import numpy as np\n",
    "import matplotlib.pyplot as plt\n",
    "import seaborn as sns\n",
    "\n",
    "%matplotlib inline"
   ]
  },
  {
   "cell_type": "code",
   "execution_count": 2,
   "metadata": {},
   "outputs": [],
   "source": [
    "def d(sides):\n",
    "    return random.randint(1,sides)"
   ]
  },
  {
   "cell_type": "markdown",
   "metadata": {},
   "source": [
    "## Ability Scores"
   ]
  },
  {
   "cell_type": "code",
   "execution_count": 3,
   "metadata": {},
   "outputs": [
    {
     "data": {
      "image/png": "[encoded data removed]",
      "text/plain": [
       "<Figure size 432x288 with 1 Axes>"
      ]
     },
     "metadata": {
      "needs_background": "light"
     },
     "output_type": "display_data"
    }
   ],
   "source": [
    "# This is the result if we didn't drop the lowest d6\n",
    "def ability_score():\n",
    "    rolls = []\n",
    "    total = 0\n",
    "    \n",
    "    for _ in range(3):\n",
    "        rolls.append(d(6))\n",
    "    #rolls.remove(min(rolls))\n",
    "\n",
    "    for num in rolls:\n",
    "        total += num\n",
    "        \n",
    "    return total\n",
    "\n",
    "scores_threeDsix = []\n",
    "for i in range(100000):\n",
    "    scores_threeDsix.append(ability_score())\n",
    "sns.countplot(scores_threeDsix);"
   ]
  },
  {
   "cell_type": "code",
   "execution_count": 4,
   "metadata": {},
   "outputs": [
    {
     "data": {
      "image/png": "[encoded data removed]",
      "text/plain": [
       "<Figure size 432x288 with 1 Axes>"
      ]
     },
     "metadata": {
      "needs_background": "light"
     },
     "output_type": "display_data"
    }
   ],
   "source": [
    "# This is the actual curve that ditermines a character's Ability Score Probabilities\n",
    "\n",
    "def ability_score():\n",
    "    rolls = []\n",
    "    total = 0\n",
    "    \n",
    "    for i in range(4):\n",
    "        rolls.append(d(6))\n",
    "    rolls.remove(min(rolls))\n",
    "\n",
    "    for num in rolls:\n",
    "        total += num\n",
    "        \n",
    "    return total\n",
    "\n",
    "scores_ability = []\n",
    "for i in range(100000):\n",
    "    scores_ability.append(ability_score())\n",
    "\n",
    "sns.countplot(scores_ability);"
   ]
  },
  {
   "cell_type": "markdown",
   "metadata": {},
   "source": [
    "## Adding Ability Modifiers"
   ]
  },
  {
   "cell_type": "code",
   "execution_count": 5,
   "metadata": {},
   "outputs": [],
   "source": [
    "dict_ability_mods = {\n",
    "    3 : -4,\n",
    "    4 : -3,\n",
    "    5 : -3,\n",
    "    6 : -2,\n",
    "    7 : -2,\n",
    "    8 : -1,\n",
    "    9 : -1,\n",
    "    10: 0,\n",
    "    11: 0,\n",
    "    12: 1,\n",
    "    13: 1,\n",
    "    14: 2,\n",
    "    15: 2,\n",
    "    16: 3,\n",
    "    17: 3,\n",
    "    18: 4\n",
    "    \n",
    "}"
   ]
  },
  {
   "cell_type": "code",
   "execution_count": 6,
   "metadata": {},
   "outputs": [],
   "source": [
    "df = pd.DataFrame(scores_ability, columns=['Ability'])"
   ]
  },
  {
   "cell_type": "code",
   "execution_count": 7,
   "metadata": {},
   "outputs": [],
   "source": [
    "df['3d6'] = scores_threeDsix"
   ]
  },
  {
   "cell_type": "code",
   "execution_count": 8,
   "metadata": {},
   "outputs": [],
   "source": [
    "df['Modifier'] = df['Ability'].map(lambda x: dict_ability_mods[x])"
   ]
  },
  {
   "cell_type": "code",
   "execution_count": 9,
   "metadata": {},
   "outputs": [],
   "source": [
    "df.to_csv('./Individual_rolls.csv', index = False)"
   ]
  },
  {
   "cell_type": "markdown",
   "metadata": {},
   "source": [
    "## Ability Score Sets"
   ]
  },
  {
   "cell_type": "code",
   "execution_count": 11,
   "metadata": {},
   "outputs": [
    {
     "data": {
      "text/plain": [
       "[-1, 0, 1, 1, 2, 3]    1576\n",
       "[-1, 0, 1, 1, 2, 2]    1573\n",
       "[0, 1, 1, 2, 2, 3]     1495\n",
       "[-1, 0, 0, 1, 1, 2]    1398\n",
       "[0, 0, 1, 1, 2, 3]     1389\n",
       "[0, 0, 1, 1, 2, 2]     1366\n",
       "[-1, 0, 1, 2, 2, 3]    1364\n",
       "[-1, 0, 0, 1, 2, 2]    1242\n",
       "[0, 0, 1, 2, 2, 3]     1210\n",
       "[-1, 0, 0, 1, 2, 3]    1202\n",
       "[-1, 0, 1, 1, 1, 2]    1192\n",
       "[0, 1, 1, 1, 2, 2]     1134\n",
       "[0, 1, 1, 1, 2, 3]     1111\n",
       "[0, 0, 1, 1, 1, 2]     1029\n",
       "[0, 1, 1, 2, 2, 2]      983\n",
       "dtype: int64"
      ]
     },
     "execution_count": 11,
     "metadata": {},
     "output_type": "execute_result"
    }
   ],
   "source": [
    "list_ability_mod_sets = []\n",
    "for i in range(100000):\n",
    "    list_current_set = []\n",
    "    for _ in range(6):\n",
    "        list_current_set.append(dict_ability_mods[ability_score()])\n",
    "    list_current_set.sort()\n",
    "    list_ability_mod_sets.append(list_current_set)\n",
    "\n",
    "\n",
    "\n",
    "series_mod_sets = pd.Series([str(x) for x in list_ability_mod_sets]).value_counts()\n",
    "\n",
    "series_mod_sets.head(15)"
   ]
  },
  {
   "cell_type": "code",
   "execution_count": 12,
   "metadata": {},
   "outputs": [
    {
     "data": {
      "text/plain": [
       "[9, 11, 12, 13, 14, 15]     142\n",
       "[11, 12, 13, 14, 15, 16]    134\n",
       "[10, 11, 12, 13, 14, 15]    133\n",
       "[9, 10, 11, 12, 13, 14]     130\n",
       "[11, 12, 13, 13, 14, 15]    124\n",
       "[10, 11, 12, 13, 13, 14]    119\n",
       "[9, 10, 12, 13, 14, 15]     118\n",
       "[10, 11, 13, 14, 15, 16]    115\n",
       "[10, 11, 12, 13, 14, 16]    115\n",
       "[10, 11, 12, 12, 13, 15]    109\n",
       "[10, 12, 13, 14, 15, 16]    108\n",
       "[10, 11, 12, 13, 15, 16]    108\n",
       "[11, 11, 12, 13, 14, 15]    106\n",
       "[10, 11, 12, 14, 15, 16]    105\n",
       "[11, 12, 13, 14, 14, 15]    102\n",
       "dtype: int64"
      ]
     },
     "execution_count": 12,
     "metadata": {},
     "output_type": "execute_result"
    }
   ],
   "source": [
    "ability_score_sets = []\n",
    "for i in range(100000):\n",
    "    current_set = []\n",
    "    for _ in range(6):\n",
    "        current_set.append(ability_score())\n",
    "    current_set.sort()\n",
    "    ability_score_sets.append(current_set)#.sort())\n",
    "\n",
    "\n",
    "\n",
    "series_ability_sets = pd.Series([str(x) for x in ability_score_sets]).value_counts()\n",
    "\n",
    "series_ability_sets.head(15)"
   ]
  },
  {
   "cell_type": "code",
   "execution_count": 13,
   "metadata": {},
   "outputs": [
    {
     "data": {
      "text/plain": [
       "5143"
      ]
     },
     "execution_count": 13,
     "metadata": {},
     "output_type": "execute_result"
    }
   ],
   "source": [
    "# Number of Unique Ability Mod Sets\n",
    "mask = series_ability_sets <= 1\n",
    "len(series_ability_sets[mask])"
   ]
  },
  {
   "cell_type": "markdown",
   "metadata": {},
   "source": [
    "## Ability Score Totals"
   ]
  },
  {
   "cell_type": "code",
   "execution_count": 14,
   "metadata": {},
   "outputs": [],
   "source": [
    "ability_score_totals = []\n",
    "for i in range(100000):\n",
    "    current_set = 0\n",
    "    for _ in range(6):\n",
    "        current_set = current_set + ability_score()\n",
    "    #current_set.sort()\n",
    "    ability_score_totals.append(current_set)#.sort())\n",
    "\n"
   ]
  },
  {
   "cell_type": "code",
   "execution_count": 15,
   "metadata": {},
   "outputs": [
    {
     "name": "stdout",
     "output_type": "stream",
     "text": [
      "6\n",
      "20\n",
      "30\n",
      "37\n",
      "46\n",
      "59\n"
     ]
    }
   ],
   "source": [
    "current_set = 0\n",
    "for i in range(6):\n",
    "    current_set = current_set + ability_score()\n",
    "    print(current_set)"
   ]
  },
  {
   "cell_type": "code",
   "execution_count": 16,
   "metadata": {},
   "outputs": [
    {
     "data": {
      "text/plain": [
       "72"
      ]
     },
     "execution_count": 16,
     "metadata": {},
     "output_type": "execute_result"
    }
   ],
   "source": [
    "# Standard Array Ability Values summed.\n",
    "8 + 10 + 12 + 13 + 14 + 15"
   ]
  },
  {
   "cell_type": "code",
   "execution_count": 17,
   "metadata": {},
   "outputs": [],
   "source": [
    "num_less = 0\n",
    "num_equl = 0\n",
    "num_more = 0\n",
    "for num in ability_score_totals:\n",
    "    if num < 72:\n",
    "        num_less = num_less + 1\n",
    "    elif num > 72:\n",
    "        num_more = num_more + 1\n",
    "    else:\n",
    "        num_equl = num_equl + 1"
   ]
  },
  {
   "cell_type": "code",
   "execution_count": 18,
   "metadata": {},
   "outputs": [
    {
     "name": "stdout",
     "output_type": "stream",
     "text": [
      "0.38347 of totals are less than 72\n"
     ]
    }
   ],
   "source": [
    "print(num_less/len(ability_score_totals), 'of totals are less than 72')"
   ]
  },
  {
   "cell_type": "code",
   "execution_count": 19,
   "metadata": {},
   "outputs": [
    {
     "name": "stdout",
     "output_type": "stream",
     "text": [
      "0.05529 of totals are equal to 72\n"
     ]
    }
   ],
   "source": [
    "print(num_equl/len(ability_score_totals), 'of totals are equal to 72')"
   ]
  },
  {
   "cell_type": "code",
   "execution_count": 20,
   "metadata": {},
   "outputs": [
    {
     "name": "stdout",
     "output_type": "stream",
     "text": [
      "0.56124 of totals are more than 72\n"
     ]
    }
   ],
   "source": [
    "print(num_more/len(ability_score_totals), 'of totals are more than 72')"
   ]
  },
  {
   "cell_type": "code",
   "execution_count": 21,
   "metadata": {
    "scrolled": true
   },
   "outputs": [
    {
     "data": {
      "text/plain": [
       "1.0"
      ]
     },
     "execution_count": 21,
     "metadata": {},
     "output_type": "execute_result"
    }
   ],
   "source": [
    "# Ensuring Correct Math\n",
    "(num_less/len(ability_score_totals)) + (num_equl/len(ability_score_totals)) + (num_more/len(ability_score_totals))"
   ]
  },
  {
   "cell_type": "markdown",
   "metadata": {},
   "source": [
    "## Average Ability Score"
   ]
  },
  {
   "cell_type": "code",
   "execution_count": 24,
   "metadata": {},
   "outputs": [
    {
     "data": {
      "text/plain": [
       "12.243612"
      ]
     },
     "execution_count": 24,
     "metadata": {},
     "output_type": "execute_result"
    }
   ],
   "source": [
    "list_avg_result = []\n",
    "num_avg_rounds = 1000000 # 1 Million\n",
    "for _ in range(num_avg_rounds):\n",
    "    list_avg_result.append(ability_score())\n",
    "sum(list_avg_result)/num_avg_rounds"
   ]
  },
  {
   "cell_type": "code",
   "execution_count": null,
   "metadata": {},
   "outputs": [],
   "source": []
  }
 ],
 "metadata": {
  "kernelspec": {
   "display_name": "Python 3",
   "language": "python",
   "name": "python3"
  },
  "language_info": {
   "codemirror_mode": {
    "name": "ipython",
    "version": 3
   },
   "file_extension": ".py",
   "mimetype": "text/x-python",
   "name": "python",
   "nbconvert_exporter": "python",
   "pygments_lexer": "ipython3",
   "version": "3.7.6"
  }
 },
 "nbformat": 4,
 "nbformat_minor": 4
}
