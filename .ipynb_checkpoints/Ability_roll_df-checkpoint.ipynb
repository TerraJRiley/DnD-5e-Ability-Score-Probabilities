{
 "cells": [
  {
   "cell_type": "code",
   "execution_count": 1,
   "metadata": {},
   "outputs": [],
   "source": [
    "import pandas as pd\n",
    "import random\n",
    "import numpy as np\n",
    "import matplotlib.pyplot as plt\n",
    "import seaborn as sns\n",
    "from math import floor\n",
    "\n",
    "%matplotlib inline"
   ]
  },
  {
   "cell_type": "markdown",
   "metadata": {},
   "source": [
    "# Defining Functions"
   ]
  },
  {
   "cell_type": "code",
   "execution_count": 2,
   "metadata": {},
   "outputs": [
    {
     "data": {
      "text/plain": [
       "82"
      ]
     },
     "execution_count": 2,
     "metadata": {},
     "output_type": "execute_result"
    }
   ],
   "source": [
    "def d(sides):\n",
    "    return random.randint(1,sides)\n",
    "d(100)"
   ]
  },
  {
   "cell_type": "code",
   "execution_count": 3,
   "metadata": {},
   "outputs": [
    {
     "data": {
      "text/plain": [
       "0"
      ]
     },
     "execution_count": 3,
     "metadata": {},
     "output_type": "execute_result"
    }
   ],
   "source": [
    "# Ability Score to Modifier Function\n",
    "\n",
    "def funct_to_mod(x):\n",
    "    return floor((x - 10)/2)\n",
    "\n",
    "funct_to_mod(11)"
   ]
  },
  {
   "cell_type": "code",
   "execution_count": 4,
   "metadata": {},
   "outputs": [
    {
     "data": {
      "image/png": "[encoded data removed]",
      "text/plain": [
       "<Figure size 432x288 with 1 Axes>"
      ]
     },
     "metadata": {
      "needs_background": "light"
     },
     "output_type": "display_data"
    }
   ],
   "source": [
    "# This is the actual curve that ditermines a character's Ability Score Probabilities\n",
    "\n",
    "def ability_score():\n",
    "    rolls = []\n",
    "    total = 0\n",
    "    \n",
    "    for i in range(4):\n",
    "        rolls.append(d(6))\n",
    "    rolls.remove(min(rolls))\n",
    "\n",
    "    for num in rolls:\n",
    "        total += num\n",
    "        \n",
    "    return total\n",
    "\n",
    "test_scores = []\n",
    "for i in range(10000):\n",
    "    test_scores.append(ability_score())\n",
    "\n",
    "sns.countplot(test_scores);"
   ]
  },
  {
   "cell_type": "markdown",
   "metadata": {},
   "source": [
    "## Generating Ability Score Sets"
   ]
  },
  {
   "cell_type": "code",
   "execution_count": 5,
   "metadata": {},
   "outputs": [
    {
     "data": {
      "text/plain": [
       "[[10, 11, 11, 14, 14, 16],\n",
       " [9, 11, 11, 11, 13, 15],\n",
       " [11, 12, 13, 13, 14, 14],\n",
       " [6, 6, 9, 9, 14, 15],\n",
       " [9, 10, 10, 13, 13, 16]]"
      ]
     },
     "execution_count": 5,
     "metadata": {},
     "output_type": "execute_result"
    }
   ],
   "source": [
    "ability_score_sets = []\n",
    "for i in range(100000):\n",
    "    current_set = []\n",
    "    for _ in range(6):\n",
    "        current_set.append(ability_score())\n",
    "    current_set.sort()\n",
    "    ability_score_sets.append(current_set)\n",
    "\n",
    "ability_score_sets[:5]"
   ]
  },
  {
   "cell_type": "code",
   "execution_count": 6,
   "metadata": {},
   "outputs": [
    {
     "data": {
      "text/html": [
       "<div>\n",
       "<style scoped>\n",
       "    .dataframe tbody tr th:only-of-type {\n",
       "        vertical-align: middle;\n",
       "    }\n",
       "\n",
       "    .dataframe tbody tr th {\n",
       "        vertical-align: top;\n",
       "    }\n",
       "\n",
       "    .dataframe thead th {\n",
       "        text-align: right;\n",
       "    }\n",
       "</style>\n",
       "<table border=\"1\" class=\"dataframe\">\n",
       "  <thead>\n",
       "    <tr style=\"text-align: right;\">\n",
       "      <th></th>\n",
       "      <th>ability_1</th>\n",
       "      <th>ability_2</th>\n",
       "      <th>ability_3</th>\n",
       "      <th>ability_4</th>\n",
       "      <th>ability_5</th>\n",
       "      <th>ability_6</th>\n",
       "    </tr>\n",
       "  </thead>\n",
       "  <tbody>\n",
       "    <tr>\n",
       "      <th>0</th>\n",
       "      <td>10</td>\n",
       "      <td>11</td>\n",
       "      <td>11</td>\n",
       "      <td>14</td>\n",
       "      <td>14</td>\n",
       "      <td>16</td>\n",
       "    </tr>\n",
       "    <tr>\n",
       "      <th>1</th>\n",
       "      <td>9</td>\n",
       "      <td>11</td>\n",
       "      <td>11</td>\n",
       "      <td>11</td>\n",
       "      <td>13</td>\n",
       "      <td>15</td>\n",
       "    </tr>\n",
       "  </tbody>\n",
       "</table>\n",
       "</div>"
      ],
      "text/plain": [
       "   ability_1  ability_2  ability_3  ability_4  ability_5  ability_6\n",
       "0         10         11         11         14         14         16\n",
       "1          9         11         11         11         13         15"
      ]
     },
     "execution_count": 6,
     "metadata": {},
     "output_type": "execute_result"
    }
   ],
   "source": [
    "df = pd.DataFrame(ability_score_sets, columns=[ 'ability_' + str(x) for x in range(1,7)])\n",
    "df.head(2)"
   ]
  },
  {
   "cell_type": "markdown",
   "metadata": {},
   "source": [
    "## Transfering ability scors into modifiers"
   ]
  },
  {
   "cell_type": "code",
   "execution_count": 7,
   "metadata": {},
   "outputs": [
    {
     "data": {
      "text/html": [
       "<div>\n",
       "<style scoped>\n",
       "    .dataframe tbody tr th:only-of-type {\n",
       "        vertical-align: middle;\n",
       "    }\n",
       "\n",
       "    .dataframe tbody tr th {\n",
       "        vertical-align: top;\n",
       "    }\n",
       "\n",
       "    .dataframe thead th {\n",
       "        text-align: right;\n",
       "    }\n",
       "</style>\n",
       "<table border=\"1\" class=\"dataframe\">\n",
       "  <thead>\n",
       "    <tr style=\"text-align: right;\">\n",
       "      <th></th>\n",
       "      <th>ability_1</th>\n",
       "      <th>ability_2</th>\n",
       "      <th>ability_3</th>\n",
       "      <th>ability_4</th>\n",
       "      <th>ability_5</th>\n",
       "      <th>ability_6</th>\n",
       "      <th>mod_1</th>\n",
       "      <th>mod_2</th>\n",
       "      <th>mod_3</th>\n",
       "      <th>mod_4</th>\n",
       "      <th>mod_5</th>\n",
       "      <th>mod_6</th>\n",
       "    </tr>\n",
       "  </thead>\n",
       "  <tbody>\n",
       "    <tr>\n",
       "      <th>0</th>\n",
       "      <td>10</td>\n",
       "      <td>11</td>\n",
       "      <td>11</td>\n",
       "      <td>14</td>\n",
       "      <td>14</td>\n",
       "      <td>16</td>\n",
       "      <td>0</td>\n",
       "      <td>0</td>\n",
       "      <td>0</td>\n",
       "      <td>2</td>\n",
       "      <td>2</td>\n",
       "      <td>3</td>\n",
       "    </tr>\n",
       "    <tr>\n",
       "      <th>1</th>\n",
       "      <td>9</td>\n",
       "      <td>11</td>\n",
       "      <td>11</td>\n",
       "      <td>11</td>\n",
       "      <td>13</td>\n",
       "      <td>15</td>\n",
       "      <td>-1</td>\n",
       "      <td>0</td>\n",
       "      <td>0</td>\n",
       "      <td>0</td>\n",
       "      <td>1</td>\n",
       "      <td>2</td>\n",
       "    </tr>\n",
       "    <tr>\n",
       "      <th>2</th>\n",
       "      <td>11</td>\n",
       "      <td>12</td>\n",
       "      <td>13</td>\n",
       "      <td>13</td>\n",
       "      <td>14</td>\n",
       "      <td>14</td>\n",
       "      <td>0</td>\n",
       "      <td>1</td>\n",
       "      <td>1</td>\n",
       "      <td>1</td>\n",
       "      <td>2</td>\n",
       "      <td>2</td>\n",
       "    </tr>\n",
       "  </tbody>\n",
       "</table>\n",
       "</div>"
      ],
      "text/plain": [
       "   ability_1  ability_2  ability_3  ability_4  ability_5  ability_6  mod_1  \\\n",
       "0         10         11         11         14         14         16      0   \n",
       "1          9         11         11         11         13         15     -1   \n",
       "2         11         12         13         13         14         14      0   \n",
       "\n",
       "   mod_2  mod_3  mod_4  mod_5  mod_6  \n",
       "0      0      0      2      2      3  \n",
       "1      0      0      0      1      2  \n",
       "2      1      1      1      2      2  "
      ]
     },
     "execution_count": 7,
     "metadata": {},
     "output_type": "execute_result"
    }
   ],
   "source": [
    "for i in range(1,7):\n",
    "    df['mod_' + str(i)] = df['ability_' + str(i)].map(lambda x: funct_to_mod(x))\n",
    "df.head(3)"
   ]
  },
  {
   "cell_type": "markdown",
   "metadata": {},
   "source": [
    "## Turning the individual MODIFIER ints into a set of all in str format"
   ]
  },
  {
   "cell_type": "code",
   "execution_count": 8,
   "metadata": {},
   "outputs": [
    {
     "data": {
      "text/plain": [
       "['[0, 0, 0, 2, 2, 3]',\n",
       " '[-1, 0, 0, 0, 1, 2]',\n",
       " '[0, 1, 1, 1, 2, 2]',\n",
       " '[-2, -2, -1, -1, 2, 2]',\n",
       " '[-1, 0, 0, 1, 1, 3]']"
      ]
     },
     "execution_count": 8,
     "metadata": {},
     "output_type": "execute_result"
    }
   ],
   "source": [
    "list_str_mods = []\n",
    "for row in df.index:\n",
    "    str_crnt = '['\n",
    "    for i in range(1,7):\n",
    "        str_crnt = str_crnt + str(df.loc[ row, 'mod_' + str(i)])\n",
    "        if i != 6:\n",
    "            str_crnt = str_crnt + ', '\n",
    "        else:\n",
    "            str_crnt = str_crnt + ']'\n",
    "    list_str_mods.append(str_crnt)\n",
    "\n",
    "list_str_mods[:5]"
   ]
  },
  {
   "cell_type": "code",
   "execution_count": 9,
   "metadata": {},
   "outputs": [],
   "source": [
    "df['mod_str'] = list_str_mods"
   ]
  },
  {
   "cell_type": "markdown",
   "metadata": {},
   "source": [
    "## Turning the individual ABILITY ints into a set of all in str format"
   ]
  },
  {
   "cell_type": "code",
   "execution_count": 10,
   "metadata": {},
   "outputs": [
    {
     "data": {
      "text/plain": [
       "['[10, 11, 11, 14, 14, 16]',\n",
       " '[9, 11, 11, 11, 13, 15]',\n",
       " '[11, 12, 13, 13, 14, 14]',\n",
       " '[6, 6, 9, 9, 14, 15]',\n",
       " '[9, 10, 10, 13, 13, 16]']"
      ]
     },
     "execution_count": 10,
     "metadata": {},
     "output_type": "execute_result"
    }
   ],
   "source": [
    "list_str_ability = []\n",
    "for row in df.index:\n",
    "    str_crnt = '['\n",
    "    for i in range(1,7):\n",
    "        str_crnt = str_crnt + str(df.loc[ row, 'ability_' + str(i)])\n",
    "        if i != 6:\n",
    "            str_crnt = str_crnt + ', '\n",
    "        else:\n",
    "            str_crnt = str_crnt + ']'\n",
    "    list_str_ability.append(str_crnt)\n",
    "\n",
    "list_str_ability[:5]"
   ]
  },
  {
   "cell_type": "code",
   "execution_count": 11,
   "metadata": {},
   "outputs": [],
   "source": [
    "df['ability_str'] = list_str_ability"
   ]
  },
  {
   "cell_type": "code",
   "execution_count": 12,
   "metadata": {},
   "outputs": [
    {
     "data": {
      "text/html": [
       "<div>\n",
       "<style scoped>\n",
       "    .dataframe tbody tr th:only-of-type {\n",
       "        vertical-align: middle;\n",
       "    }\n",
       "\n",
       "    .dataframe tbody tr th {\n",
       "        vertical-align: top;\n",
       "    }\n",
       "\n",
       "    .dataframe thead th {\n",
       "        text-align: right;\n",
       "    }\n",
       "</style>\n",
       "<table border=\"1\" class=\"dataframe\">\n",
       "  <thead>\n",
       "    <tr style=\"text-align: right;\">\n",
       "      <th></th>\n",
       "      <th>ability_1</th>\n",
       "      <th>ability_2</th>\n",
       "      <th>ability_3</th>\n",
       "      <th>ability_4</th>\n",
       "      <th>ability_5</th>\n",
       "      <th>ability_6</th>\n",
       "      <th>mod_1</th>\n",
       "      <th>mod_2</th>\n",
       "      <th>mod_3</th>\n",
       "      <th>mod_4</th>\n",
       "      <th>mod_5</th>\n",
       "      <th>mod_6</th>\n",
       "      <th>mod_str</th>\n",
       "      <th>ability_str</th>\n",
       "    </tr>\n",
       "  </thead>\n",
       "  <tbody>\n",
       "    <tr>\n",
       "      <th>0</th>\n",
       "      <td>10</td>\n",
       "      <td>11</td>\n",
       "      <td>11</td>\n",
       "      <td>14</td>\n",
       "      <td>14</td>\n",
       "      <td>16</td>\n",
       "      <td>0</td>\n",
       "      <td>0</td>\n",
       "      <td>0</td>\n",
       "      <td>2</td>\n",
       "      <td>2</td>\n",
       "      <td>3</td>\n",
       "      <td>[0, 0, 0, 2, 2, 3]</td>\n",
       "      <td>[10, 11, 11, 14, 14, 16]</td>\n",
       "    </tr>\n",
       "    <tr>\n",
       "      <th>1</th>\n",
       "      <td>9</td>\n",
       "      <td>11</td>\n",
       "      <td>11</td>\n",
       "      <td>11</td>\n",
       "      <td>13</td>\n",
       "      <td>15</td>\n",
       "      <td>-1</td>\n",
       "      <td>0</td>\n",
       "      <td>0</td>\n",
       "      <td>0</td>\n",
       "      <td>1</td>\n",
       "      <td>2</td>\n",
       "      <td>[-1, 0, 0, 0, 1, 2]</td>\n",
       "      <td>[9, 11, 11, 11, 13, 15]</td>\n",
       "    </tr>\n",
       "    <tr>\n",
       "      <th>2</th>\n",
       "      <td>11</td>\n",
       "      <td>12</td>\n",
       "      <td>13</td>\n",
       "      <td>13</td>\n",
       "      <td>14</td>\n",
       "      <td>14</td>\n",
       "      <td>0</td>\n",
       "      <td>1</td>\n",
       "      <td>1</td>\n",
       "      <td>1</td>\n",
       "      <td>2</td>\n",
       "      <td>2</td>\n",
       "      <td>[0, 1, 1, 1, 2, 2]</td>\n",
       "      <td>[11, 12, 13, 13, 14, 14]</td>\n",
       "    </tr>\n",
       "  </tbody>\n",
       "</table>\n",
       "</div>"
      ],
      "text/plain": [
       "   ability_1  ability_2  ability_3  ability_4  ability_5  ability_6  mod_1  \\\n",
       "0         10         11         11         14         14         16      0   \n",
       "1          9         11         11         11         13         15     -1   \n",
       "2         11         12         13         13         14         14      0   \n",
       "\n",
       "   mod_2  mod_3  mod_4  mod_5  mod_6              mod_str  \\\n",
       "0      0      0      2      2      3   [0, 0, 0, 2, 2, 3]   \n",
       "1      0      0      0      1      2  [-1, 0, 0, 0, 1, 2]   \n",
       "2      1      1      1      2      2   [0, 1, 1, 1, 2, 2]   \n",
       "\n",
       "                ability_str  \n",
       "0  [10, 11, 11, 14, 14, 16]  \n",
       "1   [9, 11, 11, 11, 13, 15]  \n",
       "2  [11, 12, 13, 13, 14, 14]  "
      ]
     },
     "execution_count": 12,
     "metadata": {},
     "output_type": "execute_result"
    }
   ],
   "source": [
    "df.head(3)"
   ]
  },
  {
   "cell_type": "markdown",
   "metadata": {},
   "source": [
    "## Ability Totals"
   ]
  },
  {
   "cell_type": "code",
   "execution_count": 13,
   "metadata": {},
   "outputs": [
    {
     "data": {
      "text/plain": [
       "0    76\n",
       "1    70\n",
       "2    77\n",
       "3    59\n",
       "4    71\n",
       "dtype: int64"
      ]
     },
     "execution_count": 13,
     "metadata": {},
     "output_type": "execute_result"
    }
   ],
   "source": [
    "list_ability_totals = (df['ability_1'] + df['ability_2'] + \n",
    "  df['ability_3'] + df['ability_4'] + \n",
    "  df['ability_5'] + df['ability_6'])\n",
    "list_ability_totals[:5]"
   ]
  },
  {
   "cell_type": "code",
   "execution_count": 14,
   "metadata": {},
   "outputs": [],
   "source": [
    "df['abilty_total'] = list_ability_totals"
   ]
  },
  {
   "cell_type": "markdown",
   "metadata": {},
   "source": [
    "## Saving the Final DF"
   ]
  },
  {
   "cell_type": "code",
   "execution_count": 15,
   "metadata": {},
   "outputs": [
    {
     "data": {
      "text/html": [
       "<div>\n",
       "<style scoped>\n",
       "    .dataframe tbody tr th:only-of-type {\n",
       "        vertical-align: middle;\n",
       "    }\n",
       "\n",
       "    .dataframe tbody tr th {\n",
       "        vertical-align: top;\n",
       "    }\n",
       "\n",
       "    .dataframe thead th {\n",
       "        text-align: right;\n",
       "    }\n",
       "</style>\n",
       "<table border=\"1\" class=\"dataframe\">\n",
       "  <thead>\n",
       "    <tr style=\"text-align: right;\">\n",
       "      <th></th>\n",
       "      <th>ability_1</th>\n",
       "      <th>ability_2</th>\n",
       "      <th>ability_3</th>\n",
       "      <th>ability_4</th>\n",
       "      <th>ability_5</th>\n",
       "      <th>ability_6</th>\n",
       "      <th>mod_1</th>\n",
       "      <th>mod_2</th>\n",
       "      <th>mod_3</th>\n",
       "      <th>mod_4</th>\n",
       "      <th>mod_5</th>\n",
       "      <th>mod_6</th>\n",
       "      <th>mod_str</th>\n",
       "      <th>ability_str</th>\n",
       "      <th>abilty_total</th>\n",
       "    </tr>\n",
       "  </thead>\n",
       "  <tbody>\n",
       "    <tr>\n",
       "      <th>0</th>\n",
       "      <td>10</td>\n",
       "      <td>11</td>\n",
       "      <td>11</td>\n",
       "      <td>14</td>\n",
       "      <td>14</td>\n",
       "      <td>16</td>\n",
       "      <td>0</td>\n",
       "      <td>0</td>\n",
       "      <td>0</td>\n",
       "      <td>2</td>\n",
       "      <td>2</td>\n",
       "      <td>3</td>\n",
       "      <td>[0, 0, 0, 2, 2, 3]</td>\n",
       "      <td>[10, 11, 11, 14, 14, 16]</td>\n",
       "      <td>76</td>\n",
       "    </tr>\n",
       "    <tr>\n",
       "      <th>1</th>\n",
       "      <td>9</td>\n",
       "      <td>11</td>\n",
       "      <td>11</td>\n",
       "      <td>11</td>\n",
       "      <td>13</td>\n",
       "      <td>15</td>\n",
       "      <td>-1</td>\n",
       "      <td>0</td>\n",
       "      <td>0</td>\n",
       "      <td>0</td>\n",
       "      <td>1</td>\n",
       "      <td>2</td>\n",
       "      <td>[-1, 0, 0, 0, 1, 2]</td>\n",
       "      <td>[9, 11, 11, 11, 13, 15]</td>\n",
       "      <td>70</td>\n",
       "    </tr>\n",
       "    <tr>\n",
       "      <th>2</th>\n",
       "      <td>11</td>\n",
       "      <td>12</td>\n",
       "      <td>13</td>\n",
       "      <td>13</td>\n",
       "      <td>14</td>\n",
       "      <td>14</td>\n",
       "      <td>0</td>\n",
       "      <td>1</td>\n",
       "      <td>1</td>\n",
       "      <td>1</td>\n",
       "      <td>2</td>\n",
       "      <td>2</td>\n",
       "      <td>[0, 1, 1, 1, 2, 2]</td>\n",
       "      <td>[11, 12, 13, 13, 14, 14]</td>\n",
       "      <td>77</td>\n",
       "    </tr>\n",
       "  </tbody>\n",
       "</table>\n",
       "</div>"
      ],
      "text/plain": [
       "   ability_1  ability_2  ability_3  ability_4  ability_5  ability_6  mod_1  \\\n",
       "0         10         11         11         14         14         16      0   \n",
       "1          9         11         11         11         13         15     -1   \n",
       "2         11         12         13         13         14         14      0   \n",
       "\n",
       "   mod_2  mod_3  mod_4  mod_5  mod_6              mod_str  \\\n",
       "0      0      0      2      2      3   [0, 0, 0, 2, 2, 3]   \n",
       "1      0      0      0      1      2  [-1, 0, 0, 0, 1, 2]   \n",
       "2      1      1      1      2      2   [0, 1, 1, 1, 2, 2]   \n",
       "\n",
       "                ability_str  abilty_total  \n",
       "0  [10, 11, 11, 14, 14, 16]            76  \n",
       "1   [9, 11, 11, 11, 13, 15]            70  \n",
       "2  [11, 12, 13, 13, 14, 14]            77  "
      ]
     },
     "execution_count": 15,
     "metadata": {},
     "output_type": "execute_result"
    }
   ],
   "source": [
    "df.head(3)"
   ]
  },
  {
   "cell_type": "code",
   "execution_count": 16,
   "metadata": {},
   "outputs": [],
   "source": [
    "df.to_csv('./ability_rolls.csv', index = False)"
   ]
  }
 ],
 "metadata": {
  "kernelspec": {
   "display_name": "Python 3",
   "language": "python",
   "name": "python3"
  },
  "language_info": {
   "codemirror_mode": {
    "name": "ipython",
    "version": 3
   },
   "file_extension": ".py",
   "mimetype": "text/x-python",
   "name": "python",
   "nbconvert_exporter": "python",
   "pygments_lexer": "ipython3",
   "version": "3.7.6"
  }
 },
 "nbformat": 4,
 "nbformat_minor": 4
}
